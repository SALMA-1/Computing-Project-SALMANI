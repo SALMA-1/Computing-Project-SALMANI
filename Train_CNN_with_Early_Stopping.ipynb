{
 "cells": [
  {
   "cell_type": "code",
   "execution_count": 1,
   "id": "91d946b3",
   "metadata": {},
   "outputs": [],
   "source": [
    "from keras.models import Sequential,load_model\n",
    "from keras.layers import LeakyReLU,Conv2D,Activation, MaxPooling2D,Dense,Flatten\n",
    "#from keras.optimizers import Adam\n",
    "from tensorflow.keras.optimizers import Adam\n",
    "from keras.preprocessing.image import ImageDataGenerator\n",
    "from sklearn.metrics import accuracy_score,roc_curve,confusion_matrix,precision_score,recall_score,f1_score,roc_auc_score\n",
    "import matplotlib.pyplot as plt\n",
    "import matplotlib.pyplot as plt_False_Positive_vs_True_Positive\n",
    "\n",
    "from keras.callbacks import EarlyStopping"
   ]
  },
  {
   "cell_type": "code",
   "execution_count": 2,
   "id": "ed0b360c",
   "metadata": {},
   "outputs": [],
   "source": [
    "def Build_CNN_Model():\n",
    "    \n",
    "    # -------------------------------------------------------------------------\n",
    "    #                        Build CNN Model \n",
    "    # -------------------------------------------------------------------------\n",
    "    model = Sequential()\n",
    "    \n",
    "    #  First Block of CNN\n",
    "    model.add(Conv2D(8, (5, 5), padding='same', input_shape=(224, 224, 3)))  \n",
    "    model.add(LeakyReLU(alpha=0.1))\n",
    "    model.add(MaxPooling2D((2, 2)))\n",
    "    \n",
    "    #  Second Block of CNN\n",
    "    model.add(Conv2D(8, (3, 3),  padding='same'))  \n",
    "    model.add(LeakyReLU(alpha=0.1))\n",
    "    model.add(MaxPooling2D((2, 2)))\n",
    "\n",
    "    #  Third Block of CNN\n",
    "    model.add(Conv2D(16, (3, 3),  padding='same'))  \n",
    "    model.add(LeakyReLU(alpha=0.1))\n",
    "\n",
    "\n",
    "    #  Forth Block of CNN\n",
    "    model.add(Conv2D(16, (3, 3),  padding='same'))  \n",
    "    model.add(LeakyReLU(alpha=0.1))\n",
    "    model.add(MaxPooling2D((2, 2)))\n",
    "\n",
    "    \n",
    "    #  Flatten and Fully Connected Layer\n",
    "    model.add(Flatten())\n",
    "    model.add(Dense(10))\n",
    "    model.add(LeakyReLU(alpha=0.1))\n",
    "     \n",
    "    #  Softmax Classifier\n",
    "    model.add(Dense(2))\n",
    "    model.add(Activation('softmax'))\n",
    "        \n",
    "    #  Display model\n",
    "    model.summary()\n",
    "    \n",
    "\t# compile model\n",
    "\n",
    "    opt = Adam(learning_rate=0.001, beta_1=0.9, beta_2=0.999)\n",
    "    model.compile(optimizer=opt, loss='categorical_crossentropy', metrics=['accuracy'])\n",
    "    \n",
    "    return model \n",
    "\n",
    "     "
   ]
  },
  {
   "cell_type": "code",
   "execution_count": 3,
   "id": "ac98b932",
   "metadata": {},
   "outputs": [],
   "source": [
    "# train and evalluate cnn model\n",
    "def Train_CNN_Model(model):\n",
    "    \n",
    "    # -------------------------------------------------------------------------\n",
    "    #                        Train CNN Model \n",
    "    # -------------------------------------------------------------------------\n",
    "    \n",
    "    \n",
    "    # create data generators    \n",
    "    train_datagen = ImageDataGenerator(\n",
    "                                     rescale=1.0/255.0,\n",
    "                                     featurewise_center= True,\n",
    "                                     featurewise_std_normalization = True,\n",
    "                                     rotation_range=10,\n",
    "                                     width_shift_range=0.1,\n",
    "                                     height_shift_range=0.1,\n",
    "                                     zoom_range=0.2,                                     \n",
    "                                     brightness_range=[0.2,1.0],\n",
    "                                     )\n",
    "    \n",
    "    valid_datagen = ImageDataGenerator(\n",
    "                                     rescale=1.0/255.0,\n",
    "                                     featurewise_center= True,\n",
    "                                     featurewise_std_normalization = True)\n",
    "    \n",
    "  \n",
    "   \n",
    "    # prepare iterators\n",
    "    batch_size=32\n",
    "    train_it = train_datagen.flow_from_directory('Data/train/',classes =('normal','abnormal'),batch_size=batch_size, target_size=(224, 224))\n",
    "    valid_it = valid_datagen.flow_from_directory('Data/val/',classes =('normal','abnormal'),batch_size=batch_size, target_size=(224, 224))\n",
    "\n",
    "\n",
    "    epochs=100;\n",
    "    \n",
    "    # Early stopping\n",
    "    es = EarlyStopping(monitor='val_accuracy', mode='max', patience=10)\n",
    "    \n",
    "    # fit model\n",
    "    history = model.fit_generator(train_it, steps_per_epoch=len(train_it),validation_data=valid_it, \n",
    "                                  validation_steps=len(valid_it), epochs=epochs,callbacks=[es], verbose=1 )\n",
    "    \n",
    "    \n",
    "    #  \"Accuracy\"\n",
    "    plt.plot(history.history['accuracy'])\n",
    "    plt.plot(history.history['val_accuracy'])\n",
    "    plt.title('model accuracy')\n",
    "    plt.ylabel('accuracy')\n",
    "    plt.xlabel('epoch')\n",
    "    plt.legend(['train', 'validation'], loc='upper left')\n",
    "    plt.show()\n",
    "    \n",
    "    # \"Loss\"\n",
    "    plt.plot(history.history['loss'])\n",
    "    plt.plot(history.history['val_loss'])\n",
    "    plt.title('model loss')\n",
    "    plt.ylabel('loss')\n",
    "    plt.xlabel('epoch')\n",
    "    plt.legend(['train', 'validation'], loc='upper left')\n",
    "    plt.show()\n",
    "\n",
    "\t# save model\n",
    "    model.save('medical_diagnosis_cnn_model.h5')\n",
    "    \n"
   ]
  },
  {
   "cell_type": "code",
   "execution_count": 4,
   "id": "bf2469e4",
   "metadata": {},
   "outputs": [],
   "source": [
    "def Evaluate_CNN_Model():\n",
    "    # -------------------------------------------------------------------------\n",
    "    #                        Evaluate CNN Model \n",
    "    # -------------------------------------------------------------------------\n",
    "    \n",
    "    # load model\n",
    "    model = load_model('medical_diagnosis_cnn_model.h5')\n",
    "    \n",
    "    # load test data\n",
    "    batch_size=32\n",
    "    test_datagen = ImageDataGenerator(\n",
    "                                     rescale=1.0/255.0,\n",
    "                                     featurewise_center= True,\n",
    "                                     featurewise_std_normalization = True)\n",
    "    \n",
    "    test_it = test_datagen.flow_from_directory('Data/test/',classes =('normal','abnormal'), \n",
    "                                               shuffle=False,batch_size=batch_size, target_size=(224, 224))\n",
    "    \n",
    "    y_true = test_it.classes;\n",
    "\n",
    "    y_pred = model.predict_generator(test_it, steps=len(test_it), verbose=1)\n",
    "\n",
    "    \n",
    "    y_pred_prob = y_pred[:,1]\n",
    "\n",
    "     \n",
    "    y_pred_binary =  y_pred_prob > 0.5\n",
    "   \n",
    "    #Confution Matrix    \n",
    "    print('\\nConfusion Matrix\\n -------------------------')    \n",
    "    print(confusion_matrix(y_true,y_pred_binary));\n",
    "    \n",
    "    # accuracy: (tp + tn) / (p + n)\n",
    "    accuracy = accuracy_score(y_true, y_pred_binary)\n",
    "    print('Accuracy: %f' % accuracy)\n",
    "    \n",
    "    \n",
    "    # precision tp / (tp + fp)\n",
    "    precision = precision_score(y_true, y_pred_binary)\n",
    "    print('Precision: %f' % precision)\n",
    "    \n",
    "    # recall: tp / (tp + fn)\n",
    "    recall = recall_score(y_true, y_pred_binary)\n",
    "    print('Recall: %f' % recall)\n",
    "    \n",
    "    # f1: 2 tp / (2 tp + fp + fn)\n",
    "    f1 = f1_score(y_true, y_pred_binary)\n",
    "    print('F1 score: %f' % f1)    \n",
    "       \n",
    "    # ROC AUC\n",
    "    auc = roc_auc_score(y_true, y_pred_prob)\n",
    "    print('ROC AUC: %f' % auc)\n",
    "    \n",
    "    \n",
    "    # calculate roc curves\n",
    "    fpr, tpr, _ = roc_curve(y_true, y_pred_prob)\n",
    "        \n",
    "    # plot the roc curve for the model\n",
    "    plt.figure()\n",
    "    plt_False_Positive_vs_True_Positive.plot(fpr, tpr, linestyle='--', label='')\n",
    "    \n",
    "    # axis labels\n",
    "    plt_False_Positive_vs_True_Positive.xlabel('False Positive Rate')\n",
    "    plt_False_Positive_vs_True_Positive.ylabel('True Positive Rate')\n",
    "       \n",
    "    # show the legend\n",
    "    plt_False_Positive_vs_True_Positive.legend()\n",
    "    # show the plot\n",
    "    plt_False_Positive_vs_True_Positive.show()\n",
    "    "
   ]
  },
  {
   "cell_type": "code",
   "execution_count": 5,
   "id": "2c4fcf8d",
   "metadata": {},
   "outputs": [
    {
     "name": "stdout",
     "output_type": "stream",
     "text": [
      "Model: \"sequential\"\n",
      "_________________________________________________________________\n",
      " Layer (type)                Output Shape              Param #   \n",
      "=================================================================\n",
      " conv2d (Conv2D)             (None, 224, 224, 8)       608       \n",
      "                                                                 \n",
      " leaky_re_lu (LeakyReLU)     (None, 224, 224, 8)       0         \n",
      "                                                                 \n",
      " max_pooling2d (MaxPooling2D  (None, 112, 112, 8)      0         \n",
      " )                                                               \n",
      "                                                                 \n",
      " conv2d_1 (Conv2D)           (None, 112, 112, 8)       584       \n",
      "                                                                 \n",
      " leaky_re_lu_1 (LeakyReLU)   (None, 112, 112, 8)       0         \n",
      "                                                                 \n",
      " max_pooling2d_1 (MaxPooling  (None, 56, 56, 8)        0         \n",
      " 2D)                                                             \n",
      "                                                                 \n",
      " conv2d_2 (Conv2D)           (None, 56, 56, 16)        1168      \n",
      "                                                                 \n",
      " leaky_re_lu_2 (LeakyReLU)   (None, 56, 56, 16)        0         \n",
      "                                                                 \n",
      " conv2d_3 (Conv2D)           (None, 56, 56, 16)        2320      \n",
      "                                                                 \n",
      " leaky_re_lu_3 (LeakyReLU)   (None, 56, 56, 16)        0         \n",
      "                                                                 \n",
      " max_pooling2d_2 (MaxPooling  (None, 28, 28, 16)       0         \n",
      " 2D)                                                             \n",
      "                                                                 \n",
      " flatten (Flatten)           (None, 12544)             0         \n",
      "                                                                 \n",
      " dense (Dense)               (None, 10)                125450    \n",
      "                                                                 \n",
      " leaky_re_lu_4 (LeakyReLU)   (None, 10)                0         \n",
      "                                                                 \n",
      " dense_1 (Dense)             (None, 2)                 22        \n",
      "                                                                 \n",
      " activation (Activation)     (None, 2)                 0         \n",
      "                                                                 \n",
      "=================================================================\n",
      "Total params: 130,152\n",
      "Trainable params: 130,152\n",
      "Non-trainable params: 0\n",
      "_________________________________________________________________\n"
     ]
    }
   ],
   "source": [
    "# main entry\n",
    "    \n",
    "model = Build_CNN_Model()\n"
   ]
  },
  {
   "cell_type": "code",
   "execution_count": 6,
   "id": "a20ef59a",
   "metadata": {},
   "outputs": [
    {
     "name": "stdout",
     "output_type": "stream",
     "text": [
      "Found 600 images belonging to 2 classes.\n",
      "Found 400 images belonging to 2 classes.\n"
     ]
    },
    {
     "name": "stderr",
     "output_type": "stream",
     "text": [
      "C:\\Users\\STUDEN~1\\AppData\\Local\\Temp/ipykernel_10752/1762484812.py:40: UserWarning: `Model.fit_generator` is deprecated and will be removed in a future version. Please use `Model.fit`, which supports generators.\n",
      "  history = model.fit_generator(train_it, steps_per_epoch=len(train_it),validation_data=valid_it,\n",
      "C:\\Users\\Studentlaptops\\anaconda3\\lib\\site-packages\\keras_preprocessing\\image\\image_data_generator.py:720: UserWarning: This ImageDataGenerator specifies `featurewise_center`, but it hasn't been fit on any training data. Fit it first by calling `.fit(numpy_data)`.\n",
      "  warnings.warn('This ImageDataGenerator specifies '\n",
      "C:\\Users\\Studentlaptops\\anaconda3\\lib\\site-packages\\keras_preprocessing\\image\\image_data_generator.py:728: UserWarning: This ImageDataGenerator specifies `featurewise_std_normalization`, but it hasn't been fit on any training data. Fit it first by calling `.fit(numpy_data)`.\n",
      "  warnings.warn('This ImageDataGenerator specifies '\n"
     ]
    },
    {
     "name": "stdout",
     "output_type": "stream",
     "text": [
      "Epoch 1/100\n",
      "19/19 [==============================] - 80s 4s/step - loss: 0.6535 - accuracy: 0.6350 - val_loss: 0.4610 - val_accuracy: 0.8175\n",
      "Epoch 2/100\n",
      "19/19 [==============================] - 73s 4s/step - loss: 0.4407 - accuracy: 0.8100 - val_loss: 0.3438 - val_accuracy: 0.8525\n",
      "Epoch 3/100\n",
      "19/19 [==============================] - 75s 4s/step - loss: 0.3646 - accuracy: 0.8550 - val_loss: 0.2811 - val_accuracy: 0.9025\n",
      "Epoch 4/100\n",
      "19/19 [==============================] - 78s 4s/step - loss: 0.3069 - accuracy: 0.8750 - val_loss: 0.9554 - val_accuracy: 0.7725\n",
      "Epoch 5/100\n",
      "19/19 [==============================] - 73s 4s/step - loss: 0.3574 - accuracy: 0.8533 - val_loss: 0.2237 - val_accuracy: 0.9250\n",
      "Epoch 6/100\n",
      "19/19 [==============================] - 73s 4s/step - loss: 0.3057 - accuracy: 0.8833 - val_loss: 0.3797 - val_accuracy: 0.8975\n",
      "Epoch 7/100\n",
      "19/19 [==============================] - 88s 5s/step - loss: 0.3051 - accuracy: 0.8767 - val_loss: 0.2923 - val_accuracy: 0.9225\n",
      "Epoch 8/100\n",
      "19/19 [==============================] - 74s 4s/step - loss: 0.3003 - accuracy: 0.8600 - val_loss: 0.3064 - val_accuracy: 0.9000\n",
      "Epoch 9/100\n",
      "19/19 [==============================] - 73s 4s/step - loss: 0.2581 - accuracy: 0.8967 - val_loss: 0.2873 - val_accuracy: 0.9050\n",
      "Epoch 10/100\n",
      "19/19 [==============================] - 74s 4s/step - loss: 0.2374 - accuracy: 0.8967 - val_loss: 0.2497 - val_accuracy: 0.9225\n",
      "Epoch 11/100\n",
      "19/19 [==============================] - 74s 4s/step - loss: 0.2284 - accuracy: 0.9100 - val_loss: 0.2826 - val_accuracy: 0.9275\n",
      "Epoch 12/100\n",
      "19/19 [==============================] - 73s 4s/step - loss: 0.2583 - accuracy: 0.8933 - val_loss: 0.1928 - val_accuracy: 0.9325\n",
      "Epoch 13/100\n",
      "19/19 [==============================] - 74s 4s/step - loss: 0.2466 - accuracy: 0.9117 - val_loss: 0.2568 - val_accuracy: 0.9300\n",
      "Epoch 14/100\n",
      "19/19 [==============================] - 76s 4s/step - loss: 0.2753 - accuracy: 0.8917 - val_loss: 0.1776 - val_accuracy: 0.9375\n",
      "Epoch 15/100\n",
      "19/19 [==============================] - 707s 39s/step - loss: 0.2418 - accuracy: 0.9150 - val_loss: 0.1741 - val_accuracy: 0.9375\n",
      "Epoch 16/100\n",
      "19/19 [==============================] - 74s 4s/step - loss: 0.2976 - accuracy: 0.8883 - val_loss: 0.2605 - val_accuracy: 0.8775\n",
      "Epoch 17/100\n",
      "19/19 [==============================] - 74s 4s/step - loss: 0.2524 - accuracy: 0.8983 - val_loss: 0.1979 - val_accuracy: 0.9350\n",
      "Epoch 18/100\n",
      "19/19 [==============================] - 75s 4s/step - loss: 0.2241 - accuracy: 0.9300 - val_loss: 0.2794 - val_accuracy: 0.9175\n",
      "Epoch 19/100\n",
      "19/19 [==============================] - 74s 4s/step - loss: 0.2000 - accuracy: 0.9283 - val_loss: 0.1531 - val_accuracy: 0.9450\n",
      "Epoch 20/100\n",
      "19/19 [==============================] - 73s 4s/step - loss: 0.2317 - accuracy: 0.9083 - val_loss: 0.1485 - val_accuracy: 0.9450\n",
      "Epoch 21/100\n",
      "19/19 [==============================] - 71s 4s/step - loss: 0.2306 - accuracy: 0.9183 - val_loss: 0.1352 - val_accuracy: 0.9525\n",
      "Epoch 22/100\n",
      "19/19 [==============================] - 72s 4s/step - loss: 0.2080 - accuracy: 0.9217 - val_loss: 0.1390 - val_accuracy: 0.9550\n",
      "Epoch 23/100\n",
      "19/19 [==============================] - 74s 4s/step - loss: 0.1940 - accuracy: 0.9283 - val_loss: 0.1261 - val_accuracy: 0.9500\n",
      "Epoch 24/100\n",
      "19/19 [==============================] - 421s 23s/step - loss: 0.2096 - accuracy: 0.9300 - val_loss: 0.1243 - val_accuracy: 0.9500\n",
      "Epoch 25/100\n",
      "19/19 [==============================] - 75s 4s/step - loss: 0.2048 - accuracy: 0.9250 - val_loss: 0.1944 - val_accuracy: 0.9350\n",
      "Epoch 26/100\n",
      "19/19 [==============================] - 74s 4s/step - loss: 0.2369 - accuracy: 0.8883 - val_loss: 0.1596 - val_accuracy: 0.9400\n",
      "Epoch 27/100\n",
      "19/19 [==============================] - 73s 4s/step - loss: 0.2126 - accuracy: 0.9283 - val_loss: 0.2199 - val_accuracy: 0.9350\n",
      "Epoch 28/100\n",
      "19/19 [==============================] - 74s 4s/step - loss: 0.2220 - accuracy: 0.9050 - val_loss: 0.2158 - val_accuracy: 0.9225\n",
      "Epoch 29/100\n",
      "19/19 [==============================] - 74s 4s/step - loss: 0.2120 - accuracy: 0.9133 - val_loss: 0.2238 - val_accuracy: 0.9225\n",
      "Epoch 30/100\n",
      "19/19 [==============================] - 74s 4s/step - loss: 0.2349 - accuracy: 0.9050 - val_loss: 0.1181 - val_accuracy: 0.9525\n",
      "Epoch 31/100\n",
      "19/19 [==============================] - 75s 4s/step - loss: 0.2258 - accuracy: 0.9133 - val_loss: 0.1297 - val_accuracy: 0.9550\n",
      "Epoch 32/100\n",
      "19/19 [==============================] - 77s 4s/step - loss: 0.2035 - accuracy: 0.9167 - val_loss: 0.2275 - val_accuracy: 0.9275\n"
     ]
    },
    {
     "data": {
      "image/png": "[encoded data removed]",
      "text/plain": [
       "<Figure size 432x288 with 1 Axes>"
      ]
     },
     "metadata": {
      "needs_background": "light"
     },
     "output_type": "display_data"
    },
    {
     "data": {
      "image/png": "[encoded data removed]",
      "text/plain": [
       "<Figure size 432x288 with 1 Axes>"
      ]
     },
     "metadata": {
      "needs_background": "light"
     },
     "output_type": "display_data"
    }
   ],
   "source": [
    "Train_CNN_Model(model)"
   ]
  },
  {
   "cell_type": "code",
   "execution_count": 7,
   "id": "e0ace584",
   "metadata": {},
   "outputs": [
    {
     "name": "stdout",
     "output_type": "stream",
     "text": [
      "Found 624 images belonging to 2 classes.\n"
     ]
    },
    {
     "name": "stderr",
     "output_type": "stream",
     "text": [
      "C:\\Users\\STUDEN~1\\AppData\\Local\\Temp/ipykernel_10752/920839411.py:21: UserWarning: `Model.predict_generator` is deprecated and will be removed in a future version. Please use `Model.predict`, which supports generators.\n",
      "  y_pred = model.predict_generator(test_it, steps=len(test_it), verbose=1)\n"
     ]
    },
    {
     "name": "stdout",
     "output_type": "stream",
     "text": [
      "20/20 [==============================] - 24s 1s/step\n"
     ]
    },
    {
     "name": "stderr",
     "output_type": "stream",
     "text": [
      "No handles with labels found to put in legend.\n"
     ]
    },
    {
     "name": "stdout",
     "output_type": "stream",
     "text": [
      "\n",
      "Confusion Matrix\n",
      " -------------------------\n",
      "[[195  39]\n",
      " [ 40 350]]\n",
      "Accuracy: 0.873397\n",
      "Precision: 0.899743\n",
      "Recall: 0.897436\n",
      "F1 score: 0.898588\n",
      "ROC AUC: 0.918097\n"
     ]
    },
    {
     "data": {
      "image/png": "[encoded data removed]",
      "text/plain": [
       "<Figure size 432x288 with 1 Axes>"
      ]
     },
     "metadata": {
      "needs_background": "light"
     },
     "output_type": "display_data"
    }
   ],
   "source": [
    "Evaluate_CNN_Model()"
   ]
  },
  {
   "cell_type": "code",
   "execution_count": null,
   "id": "74d8eb7c",
   "metadata": {},
   "outputs": [],
   "source": []
  }
 ],
 "metadata": {
  "kernelspec": {
   "display_name": "Python 3 (ipykernel)",
   "language": "python",
   "name": "python3"
  },
  "language_info": {
   "codemirror_mode": {
    "name": "ipython",
    "version": 3
   },
   "file_extension": ".py",
   "mimetype": "text/x-python",
   "name": "python",
   "nbconvert_exporter": "python",
   "pygments_lexer": "ipython3",
   "version": "3.9.7"
  }
 },
 "nbformat": 4,
 "nbformat_minor": 5
}
